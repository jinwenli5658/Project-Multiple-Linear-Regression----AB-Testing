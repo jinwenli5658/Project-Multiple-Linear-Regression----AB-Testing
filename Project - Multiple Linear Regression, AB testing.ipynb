{
 "cells": [
  {
   "cell_type": "markdown",
   "metadata": {},
   "source": [
    "## Import Library and Load Data"
   ]
  },
  {
   "cell_type": "code",
   "execution_count": 1,
   "metadata": {},
   "outputs": [],
   "source": [
    "import pandas as pd\n",
    "import matplotlib.pyplot as plt\n",
    "%matplotlib inline\n",
    "import seaborn as sns\n",
    "import numpy as np\n",
    "import statsmodels.api as sm\n",
    "from sklearn import linear_model\n",
    "from sklearn.metrics import mean_absolute_error\n",
    "from sklearn.metrics import mean_squared_error"
   ]
  },
  {
   "cell_type": "code",
   "execution_count": 2,
   "metadata": {},
   "outputs": [],
   "source": [
    "df = pd.read_csv('WA_Marketing-Campaign.csv')"
   ]
  },
  {
   "cell_type": "markdown",
   "metadata": {},
   "source": [
    "## Data Overview"
   ]
  },
  {
   "cell_type": "code",
   "execution_count": null,
   "metadata": {},
   "outputs": [],
   "source": [
    "# Data Columns\n",
    "# MarketID: unique identifier for market\n",
    "# MarketSize: size of market area by sales\n",
    "# LocationID: unique identifier for store location\n",
    "# AgeOfStore: age of store in years\n",
    "# Promotion: one of three promotions that were tested\n",
    "# week: one of four weeks when the promotions were run\n",
    "# SalesInThousands: sales amount for a specific LocationID, Promotion, and week"
   ]
  },
  {
   "cell_type": "code",
   "execution_count": 3,
   "metadata": {},
   "outputs": [
    {
     "data": {
      "text/html": [
       "<div>\n",
       "<style scoped>\n",
       "    .dataframe tbody tr th:only-of-type {\n",
       "        vertical-align: middle;\n",
       "    }\n",
       "\n",
       "    .dataframe tbody tr th {\n",
       "        vertical-align: top;\n",
       "    }\n",
       "\n",
       "    .dataframe thead th {\n",
       "        text-align: right;\n",
       "    }\n",
       "</style>\n",
       "<table border=\"1\" class=\"dataframe\">\n",
       "  <thead>\n",
       "    <tr style=\"text-align: right;\">\n",
       "      <th></th>\n",
       "      <th>MarketID</th>\n",
       "      <th>MarketSize</th>\n",
       "      <th>LocationID</th>\n",
       "      <th>AgeOfStore</th>\n",
       "      <th>Promotion</th>\n",
       "      <th>week</th>\n",
       "      <th>SalesInThousands</th>\n",
       "    </tr>\n",
       "  </thead>\n",
       "  <tbody>\n",
       "    <tr>\n",
       "      <td>0</td>\n",
       "      <td>1</td>\n",
       "      <td>Medium</td>\n",
       "      <td>1</td>\n",
       "      <td>4</td>\n",
       "      <td>3</td>\n",
       "      <td>1</td>\n",
       "      <td>33.73</td>\n",
       "    </tr>\n",
       "    <tr>\n",
       "      <td>1</td>\n",
       "      <td>1</td>\n",
       "      <td>Medium</td>\n",
       "      <td>1</td>\n",
       "      <td>4</td>\n",
       "      <td>3</td>\n",
       "      <td>2</td>\n",
       "      <td>35.67</td>\n",
       "    </tr>\n",
       "    <tr>\n",
       "      <td>2</td>\n",
       "      <td>1</td>\n",
       "      <td>Medium</td>\n",
       "      <td>1</td>\n",
       "      <td>4</td>\n",
       "      <td>3</td>\n",
       "      <td>3</td>\n",
       "      <td>29.03</td>\n",
       "    </tr>\n",
       "    <tr>\n",
       "      <td>3</td>\n",
       "      <td>1</td>\n",
       "      <td>Medium</td>\n",
       "      <td>1</td>\n",
       "      <td>4</td>\n",
       "      <td>3</td>\n",
       "      <td>4</td>\n",
       "      <td>39.25</td>\n",
       "    </tr>\n",
       "    <tr>\n",
       "      <td>4</td>\n",
       "      <td>1</td>\n",
       "      <td>Medium</td>\n",
       "      <td>2</td>\n",
       "      <td>5</td>\n",
       "      <td>2</td>\n",
       "      <td>1</td>\n",
       "      <td>27.81</td>\n",
       "    </tr>\n",
       "  </tbody>\n",
       "</table>\n",
       "</div>"
      ],
      "text/plain": [
       "   MarketID MarketSize  LocationID  AgeOfStore  Promotion  week  \\\n",
       "0         1     Medium           1           4          3     1   \n",
       "1         1     Medium           1           4          3     2   \n",
       "2         1     Medium           1           4          3     3   \n",
       "3         1     Medium           1           4          3     4   \n",
       "4         1     Medium           2           5          2     1   \n",
       "\n",
       "   SalesInThousands  \n",
       "0             33.73  \n",
       "1             35.67  \n",
       "2             29.03  \n",
       "3             39.25  \n",
       "4             27.81  "
      ]
     },
     "execution_count": 3,
     "metadata": {},
     "output_type": "execute_result"
    }
   ],
   "source": [
    "df.head()"
   ]
  },
  {
   "cell_type": "code",
   "execution_count": 4,
   "metadata": {
    "scrolled": true
   },
   "outputs": [
    {
     "name": "stdout",
     "output_type": "stream",
     "text": [
      "<class 'pandas.core.frame.DataFrame'>\n",
      "RangeIndex: 548 entries, 0 to 547\n",
      "Data columns (total 7 columns):\n",
      "MarketID            548 non-null int64\n",
      "MarketSize          548 non-null object\n",
      "LocationID          548 non-null int64\n",
      "AgeOfStore          548 non-null int64\n",
      "Promotion           548 non-null int64\n",
      "week                548 non-null int64\n",
      "SalesInThousands    548 non-null float64\n",
      "dtypes: float64(1), int64(5), object(1)\n",
      "memory usage: 30.1+ KB\n"
     ]
    }
   ],
   "source": [
    "df.info()"
   ]
  },
  {
   "cell_type": "code",
   "execution_count": 5,
   "metadata": {},
   "outputs": [
    {
     "name": "stdout",
     "output_type": "stream",
     "text": [
      "0 - MarketSize:\n",
      "Medium    320\n",
      "Large     168\n",
      "Small      60\n",
      "Name: MarketSize, dtype: int64\n",
      "-------------------------------------------------------\n",
      "\n",
      "1 - LocationID:\n",
      "920    4\n",
      "302    4\n",
      "308    4\n",
      "307    4\n",
      "306    4\n",
      "      ..\n",
      "702    4\n",
      "703    4\n",
      "704    4\n",
      "705    4\n",
      "1      4\n",
      "Name: LocationID, Length: 137, dtype: int64\n",
      "-------------------------------------------------------\n",
      "\n",
      "2 - AgeOfStore:\n",
      "1     80\n",
      "4     44\n",
      "5     44\n",
      "7     40\n",
      "8     40\n",
      "6     36\n",
      "3     32\n",
      "9     28\n",
      "12    24\n",
      "10    24\n",
      "2     20\n",
      "13    20\n",
      "19    20\n",
      "11    16\n",
      "14    12\n",
      "22    12\n",
      "24    12\n",
      "15     8\n",
      "18     8\n",
      "23     8\n",
      "27     4\n",
      "17     4\n",
      "20     4\n",
      "25     4\n",
      "28     4\n",
      "Name: AgeOfStore, dtype: int64\n",
      "-------------------------------------------------------\n",
      "\n",
      "3 - Promotion:\n",
      "3    188\n",
      "2    188\n",
      "1    172\n",
      "Name: Promotion, dtype: int64\n",
      "-------------------------------------------------------\n",
      "\n",
      "4 - week:\n",
      "4    137\n",
      "3    137\n",
      "2    137\n",
      "1    137\n",
      "Name: week, dtype: int64\n",
      "-------------------------------------------------------\n",
      "\n"
     ]
    }
   ],
   "source": [
    "# Get categorical variable distribution\n",
    "col_type = df.dtypes.index.tolist()\n",
    "var_cat = col_type[1:6]\n",
    "\n",
    "for i, var in enumerate(var_cat):\n",
    "    print(str(i) + \" - \" + str(var) + \":\")\n",
    "    print(df[var].value_counts(dropna=False))\n",
    "    print('-------------------------------------------------------')\n",
    "    print()"
   ]
  },
  {
   "cell_type": "code",
   "execution_count": 6,
   "metadata": {},
   "outputs": [
    {
     "data": {
      "text/plain": [
       "count    548.000000\n",
       "mean      53.466204\n",
       "std       16.755216\n",
       "min       17.340000\n",
       "25%       42.545000\n",
       "50%       50.200000\n",
       "75%       60.477500\n",
       "max       99.650000\n",
       "Name: SalesInThousands, dtype: float64"
      ]
     },
     "execution_count": 6,
     "metadata": {},
     "output_type": "execute_result"
    }
   ],
   "source": [
    "df['SalesInThousands'].describe()"
   ]
  },
  {
   "cell_type": "code",
   "execution_count": 7,
   "metadata": {},
   "outputs": [
    {
     "data": {
      "image/png": "[encoded data removed]",
      "text/plain": [
       "<Figure size 576x432 with 1 Axes>"
      ]
     },
     "metadata": {
      "needs_background": "light"
     },
     "output_type": "display_data"
    }
   ],
   "source": [
    "# creates a figure (fig) and a set of subplots (ax1)\n",
    "fig, ax1 = plt.subplots(figsize=(8,6))\n",
    "\n",
    "#  creates a count plot using the seaborn library. The ax=ax1 parameter specifies that the plot should be drawn on the axes ax1\n",
    "sns.countplot(x = 'MarketSize', data = df, ax = ax1)\n",
    "\n",
    "ax1.set_xlabel('Market Size', fontsize=15)\n",
    "ax1.set_ylabel('Count', fontsize=15)\n",
    "ax1.set_title('Market Size Count Distribution', fontsize=15)\n",
    "\n",
    "# sets the tick parameters for the axes, adjusting the font size of the tick labels.\n",
    "ax1.tick_params(labelsize=15)\n",
    "\n",
    "#removes the spines (the top and right axes lines) from the plot for aesthetic purposes.\n",
    "sns.despine()"
   ]
  },
  {
   "cell_type": "code",
   "execution_count": 8,
   "metadata": {},
   "outputs": [
    {
     "data": {
      "image/png": "[encoded data removed]",
      "text/plain": [
       "<Figure size 576x360 with 1 Axes>"
      ]
     },
     "metadata": {
      "needs_background": "light"
     },
     "output_type": "display_data"
    }
   ],
   "source": [
    "fig, ax1= plt.subplots(figsize=(8,5))\n",
    "sns.boxplot(y='SalesInThousands', data=df, ax=ax1)\n",
    "ax1.set_xlabel('x', fontsize=15)\n",
    "ax1.set_ylabel('SalesInThousands', fontsize=15)\n",
    "ax1.set_title('Sales in Thousands Distribution', fontsize=15)\n",
    "ax1.tick_params(labelsize=15)\n",
    "sns.despine()"
   ]
  },
  {
   "cell_type": "code",
   "execution_count": 9,
   "metadata": {},
   "outputs": [
    {
     "data": {
      "image/png": "[encoded data removed]",
      "text/plain": [
       "<Figure size 576x432 with 1 Axes>"
      ]
     },
     "metadata": {
      "needs_background": "light"
     },
     "output_type": "display_data"
    }
   ],
   "source": [
    "hist = df['SalesInThousands'].hist(bins=10, figsize=(8, 6),grid=False,)\n",
    "hist.set_xlabel('', fontsize=15)\n",
    "hist.set_ylabel('SalesInThousands', fontsize=15)\n",
    "hist.set_title('Sales in Thousands Distribution', fontsize=15)\n",
    "sns.despine()"
   ]
  },
  {
   "cell_type": "code",
   "execution_count": 10,
   "metadata": {},
   "outputs": [
    {
     "data": {
      "image/png": "[encoded data removed]",
      "text/plain": [
       "<Figure size 576x432 with 1 Axes>"
      ]
     },
     "metadata": {
      "needs_background": "light"
     },
     "output_type": "display_data"
    }
   ],
   "source": [
    "plt = df['SalesInThousands'].plot(kind= 'density', subplots=True,  sharex=False, \n",
    "                     sharey=False,fontsize=12, figsize=(8,6))\n",
    "sns.despine()"
   ]
  },
  {
   "cell_type": "markdown",
   "metadata": {},
   "source": [
    "## Singe Linear Regression"
   ]
  },
  {
   "cell_type": "code",
   "execution_count": 12,
   "metadata": {},
   "outputs": [
    {
     "name": "stderr",
     "output_type": "stream",
     "text": [
      "C:\\Users\\jinwen\\Anaconda3\\lib\\site-packages\\numpy\\core\\fromnumeric.py:2389: FutureWarning: Method .ptp is deprecated and will be removed in a future version. Use numpy.ptp instead.\n",
      "  return ptp(axis=axis, out=out, **kwargs)\n",
      "C:\\Users\\jinwen\\Anaconda3\\lib\\site-packages\\numpy\\core\\fromnumeric.py:2389: FutureWarning: Method .ptp is deprecated and will be removed in a future version. Use numpy.ptp instead.\n",
      "  return ptp(axis=axis, out=out, **kwargs)\n",
      "C:\\Users\\jinwen\\Anaconda3\\lib\\site-packages\\numpy\\core\\fromnumeric.py:2389: FutureWarning: Method .ptp is deprecated and will be removed in a future version. Use numpy.ptp instead.\n",
      "  return ptp(axis=axis, out=out, **kwargs)\n"
     ]
    },
    {
     "data": {
      "text/html": [
       "<table class=\"simpletable\">\n",
       "<caption>OLS Regression Results</caption>\n",
       "<tr>\n",
       "  <th>Dep. Variable:</th>    <td>SalesInThousands</td> <th>  R-squared:         </th> <td>   0.075</td>\n",
       "</tr>\n",
       "<tr>\n",
       "  <th>Model:</th>                   <td>OLS</td>       <th>  Adj. R-squared:    </th> <td>   0.071</td>\n",
       "</tr>\n",
       "<tr>\n",
       "  <th>Method:</th>             <td>Least Squares</td>  <th>  F-statistic:       </th> <td>   21.95</td>\n",
       "</tr>\n",
       "<tr>\n",
       "  <th>Date:</th>             <td>Sun, 10 Dec 2023</td> <th>  Prob (F-statistic):</th> <td>6.77e-10</td>\n",
       "</tr>\n",
       "<tr>\n",
       "  <th>Time:</th>                 <td>17:00:55</td>     <th>  Log-Likelihood:    </th> <td> -2300.5</td>\n",
       "</tr>\n",
       "<tr>\n",
       "  <th>No. Observations:</th>      <td>   548</td>      <th>  AIC:               </th> <td>   4607.</td>\n",
       "</tr>\n",
       "<tr>\n",
       "  <th>Df Residuals:</th>          <td>   545</td>      <th>  BIC:               </th> <td>   4620.</td>\n",
       "</tr>\n",
       "<tr>\n",
       "  <th>Df Model:</th>              <td>     2</td>      <th>                     </th>     <td> </td>   \n",
       "</tr>\n",
       "<tr>\n",
       "  <th>Covariance Type:</th>      <td>nonrobust</td>    <th>                     </th>     <td> </td>   \n",
       "</tr>\n",
       "</table>\n",
       "<table class=\"simpletable\">\n",
       "<tr>\n",
       "    <td></td>       <th>coef</th>     <th>std err</th>      <th>t</th>      <th>P>|t|</th>  <th>[0.025</th>    <th>0.975]</th>  \n",
       "</tr>\n",
       "<tr>\n",
       "  <th>const</th> <td>   40.1982</td> <td>    0.518</td> <td>   77.631</td> <td> 0.000</td> <td>   39.181</td> <td>   41.215</td>\n",
       "</tr>\n",
       "<tr>\n",
       "  <th>1</th>     <td>   17.9008</td> <td>    1.013</td> <td>   17.671</td> <td> 0.000</td> <td>   15.911</td> <td>   19.891</td>\n",
       "</tr>\n",
       "<tr>\n",
       "  <th>2</th>     <td>    7.1312</td> <td>    0.981</td> <td>    7.272</td> <td> 0.000</td> <td>    5.205</td> <td>    9.057</td>\n",
       "</tr>\n",
       "<tr>\n",
       "  <th>3</th>     <td>   15.1662</td> <td>    0.981</td> <td>   15.466</td> <td> 0.000</td> <td>   13.240</td> <td>   17.093</td>\n",
       "</tr>\n",
       "</table>\n",
       "<table class=\"simpletable\">\n",
       "<tr>\n",
       "  <th>Omnibus:</th>       <td>52.072</td> <th>  Durbin-Watson:     </th> <td>   0.251</td>\n",
       "</tr>\n",
       "<tr>\n",
       "  <th>Prob(Omnibus):</th> <td> 0.000</td> <th>  Jarque-Bera (JB):  </th> <td>  65.242</td>\n",
       "</tr>\n",
       "<tr>\n",
       "  <th>Skew:</th>          <td> 0.842</td> <th>  Prob(JB):          </th> <td>6.81e-15</td>\n",
       "</tr>\n",
       "<tr>\n",
       "  <th>Kurtosis:</th>      <td> 3.137</td> <th>  Cond. No.          </th> <td>1.34e+16</td>\n",
       "</tr>\n",
       "</table><br/><br/>Warnings:<br/>[1] Standard Errors assume that the covariance matrix of the errors is correctly specified.<br/>[2] The smallest eigenvalue is 4.09e-30. This might indicate that there are<br/>strong multicollinearity problems or that the design matrix is singular."
      ],
      "text/plain": [
       "<class 'statsmodels.iolib.summary.Summary'>\n",
       "\"\"\"\n",
       "                            OLS Regression Results                            \n",
       "==============================================================================\n",
       "Dep. Variable:       SalesInThousands   R-squared:                       0.075\n",
       "Model:                            OLS   Adj. R-squared:                  0.071\n",
       "Method:                 Least Squares   F-statistic:                     21.95\n",
       "Date:                Sun, 10 Dec 2023   Prob (F-statistic):           6.77e-10\n",
       "Time:                        17:00:55   Log-Likelihood:                -2300.5\n",
       "No. Observations:                 548   AIC:                             4607.\n",
       "Df Residuals:                     545   BIC:                             4620.\n",
       "Df Model:                           2                                         \n",
       "Covariance Type:            nonrobust                                         \n",
       "==============================================================================\n",
       "                 coef    std err          t      P>|t|      [0.025      0.975]\n",
       "------------------------------------------------------------------------------\n",
       "const         40.1982      0.518     77.631      0.000      39.181      41.215\n",
       "1             17.9008      1.013     17.671      0.000      15.911      19.891\n",
       "2              7.1312      0.981      7.272      0.000       5.205       9.057\n",
       "3             15.1662      0.981     15.466      0.000      13.240      17.093\n",
       "==============================================================================\n",
       "Omnibus:                       52.072   Durbin-Watson:                   0.251\n",
       "Prob(Omnibus):                  0.000   Jarque-Bera (JB):               65.242\n",
       "Skew:                           0.842   Prob(JB):                     6.81e-15\n",
       "Kurtosis:                       3.137   Cond. No.                     1.34e+16\n",
       "==============================================================================\n",
       "\n",
       "Warnings:\n",
       "[1] Standard Errors assume that the covariance matrix of the errors is correctly specified.\n",
       "[2] The smallest eigenvalue is 4.09e-30. This might indicate that there are\n",
       "strong multicollinearity problems or that the design matrix is singular.\n",
       "\"\"\""
      ]
     },
     "execution_count": 12,
     "metadata": {},
     "output_type": "execute_result"
    }
   ],
   "source": [
    "df['Promotion']=df['Promotion'].astype(str)\n",
    "x1 = df['Promotion']\n",
    "x1_dummy = pd.get_dummies(x1)\n",
    "\n",
    "x = sm.add_constant(x1_dummy)\n",
    "y = df['SalesInThousands']\n",
    "results = sm.OLS(y,x).fit()\n",
    "results.summary()"
   ]
  },
  {
   "cell_type": "markdown",
   "metadata": {},
   "source": [
    "### as P-values are all smaller than 0.5, coefficiencts of dummy variables are statistically significant where the relationshiop bewtween SalesInThousands and Promotion method are different from 0"
   ]
  },
  {
   "cell_type": "code",
   "execution_count": 74,
   "metadata": {},
   "outputs": [],
   "source": [
    "## interpretation of coefficient"
   ]
  },
  {
   "cell_type": "markdown",
   "metadata": {},
   "source": [
    "## Multiple Linear Regression"
   ]
  },
  {
   "cell_type": "code",
   "execution_count": 13,
   "metadata": {},
   "outputs": [
    {
     "data": {
      "text/html": [
       "<div>\n",
       "<style scoped>\n",
       "    .dataframe tbody tr th:only-of-type {\n",
       "        vertical-align: middle;\n",
       "    }\n",
       "\n",
       "    .dataframe tbody tr th {\n",
       "        vertical-align: top;\n",
       "    }\n",
       "\n",
       "    .dataframe thead th {\n",
       "        text-align: right;\n",
       "    }\n",
       "</style>\n",
       "<table border=\"1\" class=\"dataframe\">\n",
       "  <thead>\n",
       "    <tr style=\"text-align: right;\">\n",
       "      <th></th>\n",
       "      <th>Actual value</th>\n",
       "      <th>Predicted value</th>\n",
       "    </tr>\n",
       "  </thead>\n",
       "  <tbody>\n",
       "    <tr>\n",
       "      <td>0</td>\n",
       "      <td>33.73</td>\n",
       "      <td>47.50</td>\n",
       "    </tr>\n",
       "    <tr>\n",
       "      <td>1</td>\n",
       "      <td>35.67</td>\n",
       "      <td>47.50</td>\n",
       "    </tr>\n",
       "    <tr>\n",
       "      <td>2</td>\n",
       "      <td>29.03</td>\n",
       "      <td>47.50</td>\n",
       "    </tr>\n",
       "    <tr>\n",
       "      <td>3</td>\n",
       "      <td>39.25</td>\n",
       "      <td>47.50</td>\n",
       "    </tr>\n",
       "    <tr>\n",
       "      <td>4</td>\n",
       "      <td>27.81</td>\n",
       "      <td>37.00</td>\n",
       "    </tr>\n",
       "    <tr>\n",
       "      <td>...</td>\n",
       "      <td>...</td>\n",
       "      <td>...</td>\n",
       "    </tr>\n",
       "    <tr>\n",
       "      <td>543</td>\n",
       "      <td>64.34</td>\n",
       "      <td>74.25</td>\n",
       "    </tr>\n",
       "    <tr>\n",
       "      <td>544</td>\n",
       "      <td>50.20</td>\n",
       "      <td>63.50</td>\n",
       "    </tr>\n",
       "    <tr>\n",
       "      <td>545</td>\n",
       "      <td>45.75</td>\n",
       "      <td>63.50</td>\n",
       "    </tr>\n",
       "    <tr>\n",
       "      <td>546</td>\n",
       "      <td>44.29</td>\n",
       "      <td>63.50</td>\n",
       "    </tr>\n",
       "    <tr>\n",
       "      <td>547</td>\n",
       "      <td>49.41</td>\n",
       "      <td>63.50</td>\n",
       "    </tr>\n",
       "  </tbody>\n",
       "</table>\n",
       "<p>548 rows × 2 columns</p>\n",
       "</div>"
      ],
      "text/plain": [
       "     Actual value  Predicted value\n",
       "0           33.73            47.50\n",
       "1           35.67            47.50\n",
       "2           29.03            47.50\n",
       "3           39.25            47.50\n",
       "4           27.81            37.00\n",
       "..            ...              ...\n",
       "543         64.34            74.25\n",
       "544         50.20            63.50\n",
       "545         45.75            63.50\n",
       "546         44.29            63.50\n",
       "547         49.41            63.50\n",
       "\n",
       "[548 rows x 2 columns]"
      ]
     },
     "execution_count": 13,
     "metadata": {},
     "output_type": "execute_result"
    }
   ],
   "source": [
    "x2 = df['MarketSize']\n",
    "x2_dummy = pd.get_dummies(x2)\n",
    "\n",
    "x = pd.concat([x1_dummy, x2_dummy], axis=1)\n",
    "y = df['SalesInThousands']\n",
    "regr = linear_model.LinearRegression()\n",
    "regr.fit(x, y)\n",
    "\n",
    "y_pred= regr.predict(x)  \n",
    "\n",
    "reg_model_diff = pd.DataFrame({'Actual value': y, 'Predicted value': y_pred})\n",
    "reg_model_diff"
   ]
  },
  {
   "cell_type": "code",
   "execution_count": 15,
   "metadata": {},
   "outputs": [
    {
     "data": {
      "text/html": [
       "<table class=\"simpletable\">\n",
       "<caption>OLS Regression Results</caption>\n",
       "<tr>\n",
       "  <th>Dep. Variable:</th>    <td>SalesInThousands</td> <th>  R-squared:         </th> <td>   0.581</td> \n",
       "</tr>\n",
       "<tr>\n",
       "  <th>Model:</th>                   <td>OLS</td>       <th>  Adj. R-squared:    </th> <td>   0.578</td> \n",
       "</tr>\n",
       "<tr>\n",
       "  <th>Method:</th>             <td>Least Squares</td>  <th>  F-statistic:       </th> <td>   188.4</td> \n",
       "</tr>\n",
       "<tr>\n",
       "  <th>Date:</th>             <td>Sun, 10 Dec 2023</td> <th>  Prob (F-statistic):</th> <td>3.74e-101</td>\n",
       "</tr>\n",
       "<tr>\n",
       "  <th>Time:</th>                 <td>17:01:56</td>     <th>  Log-Likelihood:    </th> <td> -2083.2</td> \n",
       "</tr>\n",
       "<tr>\n",
       "  <th>No. Observations:</th>      <td>   548</td>      <th>  AIC:               </th> <td>   4176.</td> \n",
       "</tr>\n",
       "<tr>\n",
       "  <th>Df Residuals:</th>          <td>   543</td>      <th>  BIC:               </th> <td>   4198.</td> \n",
       "</tr>\n",
       "<tr>\n",
       "  <th>Df Model:</th>              <td>     4</td>      <th>                     </th>     <td> </td>    \n",
       "</tr>\n",
       "<tr>\n",
       "  <th>Covariance Type:</th>      <td>nonrobust</td>    <th>                     </th>     <td> </td>    \n",
       "</tr>\n",
       "</table>\n",
       "<table class=\"simpletable\">\n",
       "<tr>\n",
       "     <td></td>       <th>coef</th>     <th>std err</th>      <th>t</th>      <th>P>|t|</th>  <th>[0.025</th>    <th>0.975]</th>  \n",
       "</tr>\n",
       "<tr>\n",
       "  <th>1</th>      <td>   32.4944</td> <td>    0.734</td> <td>   44.268</td> <td> 0.000</td> <td>   31.052</td> <td>   33.936</td>\n",
       "</tr>\n",
       "<tr>\n",
       "  <th>2</th>      <td>   21.7270</td> <td>    0.718</td> <td>   30.240</td> <td> 0.000</td> <td>   20.316</td> <td>   23.138</td>\n",
       "</tr>\n",
       "<tr>\n",
       "  <th>3</th>      <td>   31.4787</td> <td>    0.710</td> <td>   44.348</td> <td> 0.000</td> <td>   30.084</td> <td>   32.873</td>\n",
       "</tr>\n",
       "<tr>\n",
       "  <th>Large</th>  <td>   42.0144</td> <td>    0.747</td> <td>   56.231</td> <td> 0.000</td> <td>   40.547</td> <td>   43.482</td>\n",
       "</tr>\n",
       "<tr>\n",
       "  <th>Medium</th> <td>   15.4931</td> <td>    0.576</td> <td>   26.877</td> <td> 0.000</td> <td>   14.361</td> <td>   16.625</td>\n",
       "</tr>\n",
       "<tr>\n",
       "  <th>Small</th>  <td>   28.1925</td> <td>    1.186</td> <td>   23.781</td> <td> 0.000</td> <td>   25.864</td> <td>   30.521</td>\n",
       "</tr>\n",
       "</table>\n",
       "<table class=\"simpletable\">\n",
       "<tr>\n",
       "  <th>Omnibus:</th>       <td>17.447</td> <th>  Durbin-Watson:     </th> <td>   0.545</td>\n",
       "</tr>\n",
       "<tr>\n",
       "  <th>Prob(Omnibus):</th> <td> 0.000</td> <th>  Jarque-Bera (JB):  </th> <td>   8.881</td>\n",
       "</tr>\n",
       "<tr>\n",
       "  <th>Skew:</th>          <td>-0.072</td> <th>  Prob(JB):          </th> <td>  0.0118</td>\n",
       "</tr>\n",
       "<tr>\n",
       "  <th>Kurtosis:</th>      <td> 2.393</td> <th>  Cond. No.          </th> <td>7.42e+15</td>\n",
       "</tr>\n",
       "</table><br/><br/>Warnings:<br/>[1] Standard Errors assume that the covariance matrix of the errors is correctly specified.<br/>[2] The smallest eigenvalue is 8.38e-30. This might indicate that there are<br/>strong multicollinearity problems or that the design matrix is singular."
      ],
      "text/plain": [
       "<class 'statsmodels.iolib.summary.Summary'>\n",
       "\"\"\"\n",
       "                            OLS Regression Results                            \n",
       "==============================================================================\n",
       "Dep. Variable:       SalesInThousands   R-squared:                       0.581\n",
       "Model:                            OLS   Adj. R-squared:                  0.578\n",
       "Method:                 Least Squares   F-statistic:                     188.4\n",
       "Date:                Sun, 10 Dec 2023   Prob (F-statistic):          3.74e-101\n",
       "Time:                        17:01:56   Log-Likelihood:                -2083.2\n",
       "No. Observations:                 548   AIC:                             4176.\n",
       "Df Residuals:                     543   BIC:                             4198.\n",
       "Df Model:                           4                                         \n",
       "Covariance Type:            nonrobust                                         \n",
       "==============================================================================\n",
       "                 coef    std err          t      P>|t|      [0.025      0.975]\n",
       "------------------------------------------------------------------------------\n",
       "1             32.4944      0.734     44.268      0.000      31.052      33.936\n",
       "2             21.7270      0.718     30.240      0.000      20.316      23.138\n",
       "3             31.4787      0.710     44.348      0.000      30.084      32.873\n",
       "Large         42.0144      0.747     56.231      0.000      40.547      43.482\n",
       "Medium        15.4931      0.576     26.877      0.000      14.361      16.625\n",
       "Small         28.1925      1.186     23.781      0.000      25.864      30.521\n",
       "==============================================================================\n",
       "Omnibus:                       17.447   Durbin-Watson:                   0.545\n",
       "Prob(Omnibus):                  0.000   Jarque-Bera (JB):                8.881\n",
       "Skew:                          -0.072   Prob(JB):                       0.0118\n",
       "Kurtosis:                       2.393   Cond. No.                     7.42e+15\n",
       "==============================================================================\n",
       "\n",
       "Warnings:\n",
       "[1] Standard Errors assume that the covariance matrix of the errors is correctly specified.\n",
       "[2] The smallest eigenvalue is 8.38e-30. This might indicate that there are\n",
       "strong multicollinearity problems or that the design matrix is singular.\n",
       "\"\"\""
      ]
     },
     "execution_count": 15,
     "metadata": {},
     "output_type": "execute_result"
    }
   ],
   "source": [
    "results = sm.OLS(y,x).fit()\n",
    "results.summary()"
   ]
  },
  {
   "cell_type": "code",
   "execution_count": 16,
   "metadata": {},
   "outputs": [
    {
     "name": "stdout",
     "output_type": "stream",
     "text": [
      "Mean Absolute Error: 8.909160583941604\n",
      "Mean Square Error: 117.6775102189781\n",
      "Root Mean Square Error: 10.847926540080278\n"
     ]
    }
   ],
   "source": [
    "mae = mean_absolute_error(y, y_pred)\n",
    "mse = mean_squared_error(y, y_pred)\n",
    "r2 = np.sqrt(mean_squared_error(y, y_pred))\n",
    "print('Mean Absolute Error:', mae)\n",
    "print('Mean Square Error:', mse)\n",
    "print('Root Mean Square Error:', r2)"
   ]
  }
 ],
 "metadata": {
  "kernelspec": {
   "display_name": "Python 3",
   "language": "python",
   "name": "python3"
  },
  "language_info": {
   "codemirror_mode": {
    "name": "ipython",
    "version": 3
   },
   "file_extension": ".py",
   "mimetype": "text/x-python",
   "name": "python",
   "nbconvert_exporter": "python",
   "pygments_lexer": "ipython3",
   "version": "3.7.4"
  }
 },
 "nbformat": 4,
 "nbformat_minor": 2
}
